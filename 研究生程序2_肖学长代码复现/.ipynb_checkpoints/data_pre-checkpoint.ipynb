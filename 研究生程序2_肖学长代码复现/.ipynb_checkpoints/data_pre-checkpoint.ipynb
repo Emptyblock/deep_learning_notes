{
 "cells": [
  {
   "cell_type": "code",
   "execution_count": 1,
   "id": "38ac932d",
   "metadata": {},
   "outputs": [],
   "source": [
    "import numpy as np\n",
    "import matplotlib.pyplot as plt\n",
    "import math\n",
    "import scipy.io as scio"
   ]
  },
  {
   "cell_type": "code",
   "execution_count": 2,
   "id": "f186b41f",
   "metadata": {},
   "outputs": [
    {
     "name": "stdout",
     "output_type": "stream",
     "text": [
      "(485063, 1)\n",
      "(485643, 1)\n",
      "(486804, 1)\n",
      "(486804, 1)\n",
      "(487964, 1)\n",
      "(487384, 1)\n",
      "(486804, 1)\n"
     ]
    }
   ],
   "source": [
    "def read_data_file(data_file):\n",
    "    with open(data_file, 'r',encoding='utf8') as f:\n",
    "        data=[]\n",
    "        for line in f:\n",
    "            line  = line.split()\n",
    "            #number=[float(i) for i in line.split()]\n",
    "            line = np.array(line, dtype=np.float64)\n",
    "            #data.append(number)\n",
    "            data.append(line)\n",
    "        data = np.array(data)\n",
    "    return data\n",
    "\n",
    "dl = read_data_file('99.txt')\n",
    "qk = read_data_file('111.txt')\n",
    "sth = read_data_file('124.txt')\n",
    "zc = read_data_file('137.txt')\n",
    "we = read_data_file('176.txt')\n",
    "ar = read_data_file('191.txt')\n",
    "sa = read_data_file('203.txt')\n",
    "\n",
    "print(dl.shape)\n",
    "print(qk.shape)\n",
    "print(sth.shape)\n",
    "print(zc.shape)\n",
    "print(we.shape)\n",
    "print(ar.shape)\n",
    "print(sa.shape)\n",
    "\n",
    "dl = dl[:,0]\n",
    "qk = qk[:,0]\n",
    "sth = sth[:,0]\n",
    "zc = zc[:,0]\n",
    "we = we[:,0]\n",
    "ar = ar[:,0]\n",
    "sa = sa[:,0]"
   ]
  },
  {
   "cell_type": "code",
   "execution_count": 3,
   "id": "62b9ae90",
   "metadata": {},
   "outputs": [
    {
     "name": "stdout",
     "output_type": "stream",
     "text": [
      "(969, 1024, 1)\n",
      "(970, 1024, 1)\n",
      "(972, 1024, 1)\n",
      "(972, 1024, 1)\n",
      "(974, 1024, 1)\n",
      "(973, 1024, 1)\n",
      "(972, 1024, 1)\n"
     ]
    }
   ],
   "source": [
    "def splitdata(data,n,c):#将数据 用一个 长为1024的 窗口 按步长为500的固定值 截取数据\n",
    "    processed_data=[]\n",
    "    for i in range((data.shape[0]-n)//c+1):\n",
    "        aa = data[i * c : i * c + n]\n",
    "        aa = aa.reshape(n,1)\n",
    "        processed_data.append(aa)\n",
    "    processed_data = np.array(processed_data)\n",
    "#     print(processed_data.shape)\n",
    "    return processed_data\n",
    "\n",
    "dl = splitdata(dl,1024,500)\n",
    "qk = splitdata(qk,1024,500)\n",
    "sth = splitdata(sth,1024,500)\n",
    "zc = splitdata(zc,1024,500)\n",
    "we = splitdata(we,1024,500)\n",
    "ar = splitdata(ar,1024,500)\n",
    "sa = splitdata(sa,1024,500)\n",
    "\n",
    "print(dl.shape)\n",
    "print(qk.shape)\n",
    "print(sth.shape)\n",
    "print(zc.shape)\n",
    "print(we.shape)\n",
    "print(ar.shape)\n",
    "print(sa.shape)"
   ]
  },
  {
   "cell_type": "code",
   "execution_count": 4,
   "id": "cce37d47",
   "metadata": {},
   "outputs": [],
   "source": [
    "#将所有类别的数据放进 X\n",
    "X = np.concatenate((dl,qk),axis=0)\n",
    "X = np.concatenate((X,sth),axis=0)\n",
    "X = np.concatenate((X,zc),axis=0)\n",
    "X = np.concatenate((X,we),axis=0)\n",
    "X = np.concatenate((X,ar),axis=0)\n",
    "X = np.concatenate((X,sa),axis=0)"
   ]
  },
  {
   "cell_type": "code",
   "execution_count": 5,
   "id": "bf5bbd70",
   "metadata": {},
   "outputs": [
    {
     "name": "stdout",
     "output_type": "stream",
     "text": [
      "[[1. 0. 0. ... 0. 0. 0.]\n",
      " [1. 0. 0. ... 0. 0. 0.]\n",
      " [1. 0. 0. ... 0. 0. 0.]\n",
      " ...\n",
      " [0. 0. 0. ... 0. 0. 1.]\n",
      " [0. 0. 0. ... 0. 0. 1.]\n",
      " [0. 0. 0. ... 0. 0. 1.]]\n"
     ]
    }
   ],
   "source": [
    "#创建 全0 Y 按各类别数据量 分割标签\n",
    "Y = np.zeros(X.shape[0])\n",
    "#print(Y.shape)\n",
    "Y[969:1939]=1\n",
    "Y[1939:2911]=2\n",
    "Y[2911:3883]=3\n",
    "Y[3883:4857]=4\n",
    "Y[4857:5830]=5\n",
    "Y[5830:6802]=6\n",
    "#以上操作是贴标签 0 1 2 3 4 5 6 ，共7类\n",
    "\n",
    "### 用于tsne降维可视化 ###\n",
    "Y_TSNE = Y.reshape(6802,1)  #将一行 数据 转换为 一列 数据\n",
    "#print(Y_TSNE.shape)\n",
    "\n",
    "Y = np.eye(7)[Y.astype(int).reshape(-1)]# 有点像独热编码  把七类 数据 变为 0-1 编码\n",
    "print(Y)"
   ]
  },
  {
   "cell_type": "code",
   "execution_count": 6,
   "id": "da3822eb",
   "metadata": {},
   "outputs": [],
   "source": [
    "permutation = list(np.random.permutation(X.shape[0]))\n",
    "shuffled_X = X[permutation,:]\n",
    "shuffled_Y = Y[permutation,:]\n",
    "shuffled_Y_TSNE = Y_TSNE[permutation,:]  "
   ]
  },
  {
   "cell_type": "code",
   "execution_count": 7,
   "id": "653a1918",
   "metadata": {},
   "outputs": [],
   "source": [
    "def train_test_set(shuffled_X,shuffled_Y,percent):\n",
    "    X_train = shuffled_X[0:math.floor(X.shape[0]*percent),]\n",
    "    Y_train = shuffled_Y[0:math.floor(Y.shape[0]*percent),]\n",
    "    Y_TSNE_train = shuffled_Y_TSNE[0:math.floor(Y.shape[0]*percent),]  ##### TSNE\n",
    "    \n",
    "    X_test = shuffled_X[math.floor(X.shape[0]*percent):,]\n",
    "    Y_test = shuffled_Y[math.floor(Y.shape[0]*percent):,]\n",
    "    Y_TSNE_test = shuffled_Y_TSNE[math.floor(Y.shape[0]*percent):,]  ##### TSNE\n",
    "    return X_train,Y_train,X_test,Y_test,Y_TSNE_train,Y_TSNE_test\n",
    "\n"
   ]
  },
  {
   "cell_type": "code",
   "execution_count": 8,
   "id": "a4b03da6",
   "metadata": {},
   "outputs": [
    {
     "name": "stdout",
     "output_type": "stream",
     "text": [
      "(4761, 1024, 1)\n",
      "(4761, 7)\n",
      "(2041, 1024, 1)\n",
      "(2041, 7)\n"
     ]
    }
   ],
   "source": [
    "X_train,Y_train,X_test,Y_test,Y_TSNE_train,Y_TSNE_test = train_test_set(shuffled_X,shuffled_Y,0.7)\n",
    "\n",
    "print(X_train.shape)\n",
    "print(Y_train.shape)\n",
    "print(X_test.shape)\n",
    "print(Y_test.shape)"
   ]
  },
  {
   "cell_type": "code",
   "execution_count": 9,
   "id": "0b39fcea",
   "metadata": {},
   "outputs": [],
   "source": [
    "np.save(\"X_train.npy\",X_train)\n",
    "np.save(\"Y_train.npy\",Y_train)\n",
    "np.save(\"X_test.npy\",X_test)\n",
    "np.save(\"Y_test.npy\",Y_test)\n",
    "np.save(\"Y_TSNE_train.npy\",Y_TSNE_train)\n",
    "np.save(\"Y_TSNE_test.npy\",Y_TSNE_test)"
   ]
  },
  {
   "cell_type": "code",
   "execution_count": 11,
   "id": "8db4e754",
   "metadata": {},
   "outputs": [
    {
     "name": "stdout",
     "output_type": "stream",
     "text": [
      "(4761, 1)\n",
      "[[6.]\n",
      " [2.]\n",
      " [4.]\n",
      " ...\n",
      " [4.]\n",
      " [2.]\n",
      " [6.]]\n"
     ]
    }
   ],
   "source": [
    "print(Y_TSNE_train.shape)\n",
    "print(Y_TSNE_train)"
   ]
  },
  {
   "cell_type": "code",
   "execution_count": null,
   "id": "1de7a28c",
   "metadata": {},
   "outputs": [],
   "source": []
  }
 ],
 "metadata": {
  "kernelspec": {
   "display_name": "pytorch",
   "language": "python",
   "name": "pytorch"
  },
  "language_info": {
   "codemirror_mode": {
    "name": "ipython",
    "version": 3
   },
   "file_extension": ".py",
   "mimetype": "text/x-python",
   "name": "python",
   "nbconvert_exporter": "python",
   "pygments_lexer": "ipython3",
   "version": "3.6.13"
  }
 },
 "nbformat": 4,
 "nbformat_minor": 5
}
